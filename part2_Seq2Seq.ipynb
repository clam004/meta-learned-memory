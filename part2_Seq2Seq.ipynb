{
 "cells": [
  {
   "cell_type": "code",
   "execution_count": 2,
   "metadata": {},
   "outputs": [
    {
     "name": "stdout",
     "output_type": "stream",
     "text": [
      "torch.version 1.7.0\n",
      "torch.cuda.is_available() True\n",
      "torch.cuda.device_count() 2\n"
     ]
    }
   ],
   "source": [
    "import math, copy, sys, logging, json, time, random, os, string, pickle, re\n",
    "\n",
    "import torch\n",
    "import torch.optim as optim\n",
    "from torch.autograd import Variable\n",
    "import torch.nn as nn\n",
    "import torch.nn.functional as F\n",
    "from torch.distributions import Categorical\n",
    "\n",
    "from sklearn.metrics import accuracy_score\n",
    "import numpy as np\n",
    "import matplotlib.pyplot as plt\n",
    "\n",
    "from modules.TransformerComponents import Transformer\n",
    "from modules.Vocabulary import Vocab\n",
    "from modules.MetaLearnNeuralMemory import MNMp\n",
    "\n",
    "%matplotlib inline\n",
    "%load_ext autoreload\n",
    "%autoreload 2\n",
    "\n",
    "np.random.seed(0) \n",
    "random.seed(0)\n",
    "torch.manual_seed(0)\n",
    "\n",
    "print('torch.version', torch.__version__)\n",
    "print('torch.cuda.is_available()', torch.cuda.is_available())\n",
    "print('torch.cuda.device_count()', torch.cuda.device_count())"
   ]
  },
  {
   "cell_type": "code",
   "execution_count": 3,
   "metadata": {},
   "outputs": [],
   "source": [
    "vocab = Vocab(emb_dim=32)"
   ]
  },
  {
   "cell_type": "code",
   "execution_count": 4,
   "metadata": {},
   "outputs": [],
   "source": [
    "class Teacher(): \n",
    "    \n",
    "    def __init__(self, vocab):\n",
    "        self.vocab = vocab\n",
    "        self.mynameis = vocab.string2tensor(\"my name is\")\n",
    "        self.hi = vocab.string2tensor(\"hi\")\n",
    "        self.whatmyname = vocab.string2tensor(\"what is my name?\")\n",
    "        \n",
    "    def add_vocab(self,):\n",
    "        self.vocab.string2embedding(\"my name is, hi. what is my name?\")\n",
    "        self.vocab.string2embedding(\"a b c d e f g h i j k l m n o p q r s t u v w x y z\")\n",
    "        \n",
    "    def randomString(self, stringLength):\n",
    "        \"\"\" Generate a random string of fixed length \"\"\"\n",
    "        letters = string.ascii_lowercase\n",
    "        return ''.join(random.choice(letters) for i in range(stringLength))\n",
    "    \n",
    "    def repeat(self, batch_size):\n",
    "        \n",
    "        if self.mynameis.shape[0] != batch_size:\n",
    "            self.mynameis = self.vocab.string2tensor(\"my name is\")\n",
    "            self.hi = self.vocab.string2tensor(\"hi\")\n",
    "            self.whatmyname = self.vocab.string2tensor(\"what is my name?\")\n",
    "            self.mynameis = self.mynameis.repeat(batch_size,1)\n",
    "            self.hi = self.hi.repeat(batch_size,1)\n",
    "            self.whatmyname = self.whatmyname.repeat(batch_size,1)\n",
    "    \n",
    "    def get_batch(self, batch_size, name_size):\n",
    "        \n",
    "        self.repeat(batch_size)\n",
    "        \n",
    "        newnames = self.randomString(name_size)\n",
    "        for n in range(batch_size - 1):\n",
    "            newnames += \" \" + self.randomString(name_size)\n",
    "        self.vocab.string2embedding(newnames)\n",
    "        self.names = self.vocab.string2tensor(newnames).T\n",
    "\n",
    "        self.intro = torch.cat((self.mynameis, self.names),dim=1)\n",
    "        self.introtarget = torch.cat((self.hi, self.names),dim=1)\n",
    "        return self.intro, self.introtarget, self.whatmyname, self.names"
   ]
  },
  {
   "cell_type": "code",
   "execution_count": 6,
   "metadata": {},
   "outputs": [
    {
     "name": "stdout",
     "output_type": "stream",
     "text": [
      "{'<PAD>': 0, '<SOS>': 1, '<EOS>': 2, '<UNK>': 3, 'my': 4, 'name': 5, 'is': 6, ',': 7, 'hi': 8, '.': 9, 'what': 10, '?': 11, 'a': 12, 'b': 13, 'c': 14, 'd': 15, 'e': 16, 'f': 17, 'g': 18, 'h': 19, 'i': 20, 'j': 21, 'k': 22, 'l': 23, 'm': 24, 'n': 25, 'o': 26, 'p': 27, 'q': 28, 'r': 29, 's': 30, 't': 31, 'u': 32, 'v': 33, 'w': 34, 'x': 35, 'y': 36, 'z': 37}\n"
     ]
    }
   ],
   "source": [
    "teacher = Teacher(vocab)\n",
    "teacher.add_vocab()\n",
    "\n",
    "print(vocab.word2index)"
   ]
  },
  {
   "cell_type": "code",
   "execution_count": 12,
   "metadata": {},
   "outputs": [],
   "source": [
    "batch_size = 4\n",
    "name_size = 1\n",
    "intro, introtarget, whatmyname, names = teacher.get_batch(batch_size, name_size)"
   ]
  },
  {
   "cell_type": "code",
   "execution_count": 13,
   "metadata": {},
   "outputs": [
    {
     "data": {
      "text/plain": [
       "tensor([[ 4,  5,  6, 37],\n",
       "        [ 4,  5,  6, 21],\n",
       "        [ 4,  5,  6, 27],\n",
       "        [ 4,  5,  6, 23]])"
      ]
     },
     "execution_count": 13,
     "metadata": {},
     "output_type": "execute_result"
    }
   ],
   "source": [
    "intro"
   ]
  },
  {
   "cell_type": "code",
   "execution_count": 14,
   "metadata": {},
   "outputs": [
    {
     "data": {
      "text/plain": [
       "tensor([[ 8, 37],\n",
       "        [ 8, 21],\n",
       "        [ 8, 27],\n",
       "        [ 8, 23]])"
      ]
     },
     "execution_count": 14,
     "metadata": {},
     "output_type": "execute_result"
    }
   ],
   "source": [
    "introtarget"
   ]
  },
  {
   "cell_type": "code",
   "execution_count": 15,
   "metadata": {},
   "outputs": [
    {
     "data": {
      "text/plain": [
       "tensor([[10,  6,  4,  5, 11],\n",
       "        [10,  6,  4,  5, 11],\n",
       "        [10,  6,  4,  5, 11],\n",
       "        [10,  6,  4,  5, 11]])"
      ]
     },
     "execution_count": 15,
     "metadata": {},
     "output_type": "execute_result"
    }
   ],
   "source": [
    "whatmyname"
   ]
  },
  {
   "cell_type": "code",
   "execution_count": 16,
   "metadata": {},
   "outputs": [
    {
     "data": {
      "text/plain": [
       "tensor([[37],\n",
       "        [21],\n",
       "        [27],\n",
       "        [23]])"
      ]
     },
     "execution_count": 16,
     "metadata": {},
     "output_type": "execute_result"
    }
   ],
   "source": [
    "names"
   ]
  },
  {
   "cell_type": "code",
   "execution_count": null,
   "metadata": {},
   "outputs": [],
   "source": []
  }
 ],
 "metadata": {
  "kernelspec": {
   "display_name": "Python 3",
   "language": "python",
   "name": "python3"
  },
  "language_info": {
   "codemirror_mode": {
    "name": "ipython",
    "version": 3
   },
   "file_extension": ".py",
   "mimetype": "text/x-python",
   "name": "python",
   "nbconvert_exporter": "python",
   "pygments_lexer": "ipython3",
   "version": "3.6.9"
  }
 },
 "nbformat": 4,
 "nbformat_minor": 2
}
